{
 "cells": [
  {
   "cell_type": "markdown",
   "metadata": {},
   "source": [
    "### 1. What are the summary statistics used to describe data? Contrast between mean and average.\n",
    "\n",
    "The three most popular summary statistics are mean, variance and median. \n",
    "\n",
    "#### Mean\n",
    "If we have a sample of `n` values,$x_i$, the mean $\\mu$, is the sum of values divided by hte number of values; ie:\n",
    "$$ \\mu = \\frac{1}{n}*\\sum_i x_i $$\n",
    "\n",
    "#### Variance and Std. Deviation\n",
    "\n",
    "In the same way that the mean is intended to describe the central tendency,\n",
    "variance is intended to describe the spread. The variance of a set of values\n",
    "is $$ \\sigma^2 = \\frac{1}{n}\\sum_i (x_i - \\mu)^2 $$\n",
    "\n",
    "The term $x_i$ - µ is called the “deviation from the mean,” so variance is the mean squared deviation, which is why it is denoted $\\sigma^2%$. The square root of variance, σ, is called the standard deviation.\n",
    "\n",
    "#### Median \n",
    "\n",
    "The median is the value separating the higher half of a data sample, a population, or a probability distribution, from the lower half.\n",
    "\n",
    "Other kinds of Summary Statistics used include mode,  interquartile mean, range, interquartile range, absolute deviation, mean absolute difference, gini coeeficient, percentiles, etc. \n",
    "\n",
    "The words “mean” and “average” are sometimes used interchangeably, but the contrast is clear by the following:\n",
    "* The “mean” of a sample is the summary statistic computed with the previous formula.\n",
    "*  An “average” is one of many summary statistics you might choose to describe the typical value or the central tendency of a sample.\n",
    "\n",
    "Sometimes the mean is a good description of a set of values. For example,\n",
    "apples are all pretty much the same size (at least the ones sold in supermarkets).\n",
    "So if I buy 6 apples and the total weight is 3 pounds, it would be a\n",
    "reasonable summary to say they are about a half pound each. But pumpkins are more diverse. Suppose I grow several varieties in my garden, and one day I harvest three decorative pumpkins that are 1 pound each, two pie pumpkins that are 3 pounds each, and one Atlantic Giant®\n",
    "pumpkin that weighs 591 pounds. The mean of this sample is 100\n",
    "pounds, but if I told you “The average pumpkin in my garden is 100\n",
    "pounds,” that would be wrong, or at least misleading.\n",
    "In this example, there is no meaningful average because there is no typical\n",
    "pumpkin."
   ]
  },
  {
   "cell_type": "markdown",
   "metadata": {},
   "source": [
    "### 2. Bring out the limitations of summary statistics and explain their alternatives.\n",
    "\n",
    "Summary statistics are used to summarize a set of observations, in order to communicate the largest amount of information as simply as possible. Thus they are concise, but dangerous, because they obscure the data. Such statistics are limited in ways so much so that they only allow you to make summations about the people or objects that you have actually measured. You cannot use the data you have collected to generalize to other people or objects (i.e., using data from a sample to infer the properties/parameters of a population). For example, if you tested a drug to beat cancer and it worked in your patients, you cannot claim that it would work in other cancer patients only relying on descriptive statistics (but inferential statistics would give you this opportunity).\n",
    "\n",
    "An alternative is to look at the distribution of the data, which describes how often each value appears. Inferential statistics relies on this premise, where propositions about a population are made using data drawn from the larger population with some form of sampling. Some examples of such propositions are point estimates, interval estimates, credible intervals, clustering or classificaiton. \n",
    "\n",
    "The data in inferential statistics are fit to mathematical models that can be parametric, non-parametric or semi-parametric in nature. "
   ]
  },
  {
   "cell_type": "markdown",
   "metadata": {},
   "source": [
    "### 3. Illustrate the importance of PMF and write a pseudocode to derive them.\n",
    "\n",
    "The probability mass function or PMF is a function that maps observations to probabilities. It is a function\n",
    "that gives the probability that a discrete random variable is exactly equal to some value. It is \n",
    "is often the primary means of defining a discrete probability distribution, and such functions exist\n",
    "for either scalar or multivariate random variables whose domain is discrete. They are also very useful for exploratory\n",
    "data analysis as they can help reveal patterns, differences and other features that can be otherwise non-obvious. \n",
    "\n",
    "We can obtain a PMF for a discrite sample, by dividing the frequency of a value by the size of the sample - i.e the normalized frequencies of the sample. \n",
    "\n",
    "The following psuedocode illustrates this:"
   ]
  },
  {
   "cell_type": "code",
   "execution_count": 6,
   "metadata": {},
   "outputs": [
    {
     "name": "stdout",
     "output_type": "stream",
     "text": [
      "{10: 0.1, 3: 0.1, 4: 0.5, 2: 0.2, 5: 0.1}\n"
     ]
    }
   ],
   "source": [
    "#let sample be the list of observations/values\n",
    "sample = [2,3, 4,4,4,4,4,5,2,10]\n",
    "freq = {} # freq is a dictionary/map\n",
    "for x in sample:\n",
    "    freq[x] = freq.get(x,0)+1\n",
    "n = float(len(sample))\n",
    "pmf = {}\n",
    "for key in freq:\n",
    "    pmf[key] = freq[key]/n\n",
    "print pmf\n",
    "# PMF is the resulting probability mass function for sample."
   ]
  },
  {
   "cell_type": "markdown",
   "metadata": {},
   "source": [
    "### 4. Describe two methods of exploratory data analysis with a suitable case study.\n",
    "\n",
    "There are a number of techniques used in Exploratory Data Analysis (EDA) such as Histograms, Box plots, Scatter Plots, Pareto Charts, etc. Here we shall consider two examples - histograms and box plots.\n",
    "\n",
    "\n",
    "\n",
    "#### Histograms\n",
    "A histogram is a representation that is used to roughly assess the probability distribution of a given variable by depicting the frequencies of observations occurring in certain ranges of values. It is an accurate representation of the distribution of numerical data.To construct a histogram, the first step is to \"bin\" the range of values—that is, divide the entire range of values into a series of intervals—and then count how many values fall into each interval. The bins are usually specified as consecutive, non-overlapping intervals of a variable. The bins (intervals) must be adjacent, and are often (but are not required to be) of equal size. If the bins are of equal size, a rectangle is erected over the bin with height proportional to the frequency—the number of cases in each bin. A histogram may also be normalized to display \"relative\" frequencies. It then shows the proportion of cases that fall into each of several categories, with the sum of the heights equaling 1.\n",
    "\n",
    "However, bins need not be of equal width; in that case, the erected rectangle is defined to have its area proportional to the frequency of cases in the bin.\n",
    "\n",
    "Case Study: Age of a person from Census data in an year. We can see that there are a lot more young people than old.\n",
    "\n",
    "#### Box Plots\n",
    "\n",
    "A box plot or boxplot is a method for graphically depicting groups of numerical data through their quartiles. After we check the distribution of the data by plotting the histogram, the second thing to do is to look for outliers. Identifying the outliers is important because it might happen that an association we find in our analysis can be explained by the presence of outliers A box plot is one of the best tools to identify such outliers. Through box plots we find minimum, 25th percentile, 50th percentile (median) and 75th percentile along with maximum value of a continuous variable. \n",
    "\n",
    "Case Study: Heights of 11 year olds. We can remove outlier examples."
   ]
  },
  {
   "cell_type": "code",
   "execution_count": 7,
   "metadata": {},
   "outputs": [
    {
     "data": {
      "image/png": "[encoded data removed]",
      "text/plain": [
       "<matplotlib.figure.Figure at 0x102a55350>"
      ]
     },
     "metadata": {},
     "output_type": "display_data"
    },
    {
     "data": {
      "image/png": "[encoded data removed]",
      "text/plain": [
       "<matplotlib.figure.Figure at 0x104389c10>"
      ]
     },
     "metadata": {},
     "output_type": "display_data"
    },
    {
     "data": {
      "image/png": "[encoded data removed]",
      "text/plain": [
       "<matplotlib.figure.Figure at 0x105ae6e90>"
      ]
     },
     "metadata": {},
     "output_type": "display_data"
    }
   ],
   "source": [
    "import matplotlib.pyplot as pyplot\n",
    "import random\n",
    "population_estimate = [int(random.gauss((random.random()**2)*100,2)) for x in range(5000)]\n",
    "data = population_estimate\n",
    "histogram = pyplot.hist(data)\n",
    "pyplot.figure()\n",
    "heights = [random.gauss(140,10) for x in range(200)]\n",
    "male = [x+random.uniform(0,10) for x in heights]\n",
    "female = [x-random.uniform(0,10) for x in heights]\n",
    "pyplot.boxplot(male,labels=[\"male\"])\n",
    "pyplot.figure()\n",
    "pyplot.boxplot(female,labels=[\"female\"])\n",
    "pyplot.show()"
   ]
  },
  {
   "cell_type": "markdown",
   "metadata": {},
   "source": [
    "### 5. Draw a sample histogram and find Mode, Shape and Outliers"
   ]
  },
  {
   "cell_type": "code",
   "execution_count": 8,
   "metadata": {},
   "outputs": [
    {
     "data": {
      "image/png": "[encoded data removed]",
      "text/plain": [
       "<matplotlib.figure.Figure at 0x106079e10>"
      ]
     },
     "metadata": {},
     "output_type": "display_data"
    }
   ],
   "source": [
    "pyplot.figure()\n",
    "data = [int(random.gauss(200,30)) for x in range(5000)]\n",
    "data.extend([int(random.gauss(random.uniform(1,100),20)) for x in range(500)])\n",
    "histogram = pyplot.hist(data)\n",
    "pyplot.show()"
   ]
  },
  {
   "cell_type": "markdown",
   "metadata": {},
   "source": [
    "The mode is the value 200 (on x axis), shape is asymmetric about the mode, and outliers are values from -50 to 120."
   ]
  },
  {
   "cell_type": "markdown",
   "metadata": {},
   "source": [
    "#### 6. Discuss how Relative Risk and Conditional Probability helps to understand the data better.\n",
    "\n",
    "Relative Risk is the ratio between two probabilites -eg: probabilities that are representative of two groups or classes of events. This is a summary statistic that can help highlight the differences between the two groups or the significance of an effect.\n",
    "\n",
    "Conditional probability is the probability of an event occuring subject to certain constraints. Real world events are often subject to constraints, or bound by some condition. Conditional Probabilities help model such situations more accurately by taking into account the constraints of the system."
   ]
  },
  {
   "cell_type": "markdown",
   "metadata": {},
   "source": [
    "#### 7. How are percentiles used in CDF? Explain with an example.\n",
    "The Cumulative Distribution Function (CDF) is the function that maps values to their percentile rank in a distribution.The CDF is a function of x, where x is any value that might appear in the\n",
    "distribution. To evaluate CDF(x) for a particular value of x, we compute the fraction of the values in the sample less than (or equal to) x. Here’s what that looks like as a function that takes a sample, t, and a value,\n",
    "x:"
   ]
  },
  {
   "cell_type": "code",
   "execution_count": 9,
   "metadata": {},
   "outputs": [
    {
     "name": "stdout",
     "output_type": "stream",
     "text": [
      "[0.0, 0.2, 0.6, 0.8, 0.8, 1.0]\n"
     ]
    },
    {
     "data": {
      "image/png": "[encoded data removed]",
      "text/plain": [
       "<matplotlib.figure.Figure at 0x106f32e10>"
      ]
     },
     "metadata": {},
     "output_type": "display_data"
    }
   ],
   "source": [
    "def Render(x,p):\n",
    "        \"\"\"Generates a sequence of points suitable for plotting.\n",
    "\n",
    "        An empirical CDF is a step function; linear interpolation\n",
    "        can be misleading.\n",
    "\n",
    "        Returns:\n",
    "            tuple of (xs, ps)\n",
    "        \"\"\"\n",
    "        xs = [x[0]]\n",
    "        ps = [0.0]\n",
    "        for i, v in enumerate(p):\n",
    "            xs.append(x[i])\n",
    "            ps.append(v)\n",
    "\n",
    "            try:\n",
    "                xs.append(x[i+1])\n",
    "                ps.append(v)\n",
    "            except IndexError:\n",
    "                pass\n",
    "        return xs, ps\n",
    "    \n",
    "def Cdf(t, x):\n",
    "    count = 0.0\n",
    "    for value in t:\n",
    "        if value <= x:\n",
    "            count += 1.0\n",
    "    prob = count / len(t)\n",
    "    return prob\n",
    "d = [1,2,2,3,5]\n",
    "x = [Cdf(d,i) for i in range(6)]\n",
    "print x\n",
    "pyplot.figure()\n",
    "a,b = Render(d,x[1:])\n",
    "pyplot.plot(a,b)\n",
    "pyplot.show()"
   ]
  },
  {
   "cell_type": "markdown",
   "metadata": {},
   "source": [
    "#### 8. Compare PMF and CDF and bring out their differences.\n",
    "\n",
    "PMF stands for Probability Mass Function. The PMF is a function that maps observations to probabilities. It is a function that gives the probability that a discrete random variable is exactly equal to some value. The Sum of a PMF always adds upto 1. The PMF for a discrete random variable X, gives $P(X = x)$\n",
    "\n",
    "Example, given a set of values {1,2,2,3,5}, the PMF is:\n",
    "\n",
    "PMF(0) = 0\n",
    "\n",
    "PMF(1) = 0.2\n",
    "\n",
    "PMF(2) = 0.4\n",
    "\n",
    "PMF(3) = 0.2\n",
    "\n",
    "PMF(4) = 0\n",
    "\n",
    "PMF(5) = 0.2\n",
    "\n",
    "PMF can be susceptible to noise and have very low values when the number of observations is large. The histogram of PMF can sometimes have lots of spikes or valleys.  CDF doesn't have such limitations.\n",
    "\n",
    "CDF stands for Cumulative Distribution Function. The CDF is the function that maps values to their percentile rank in a distribution. The CDF is a function of x, where x is any value that might appear in the distribution. To evaluate CDF(x) for a particular value of x, we compute the fraction of the values in the sample less than or equal to x. The CDF function is always greater than or equal to 1. The CDF for a random variable X gives $P(X \\leq x)$\n",
    "\n",
    "Example, given a set of values {1,2,2,3,5}, the CDF is:\n",
    "\n",
    "\n",
    "CDF(0) = 0\n",
    "\n",
    "CDF(1) = 0.2\n",
    "\n",
    "CDF(2) = 0.6\n",
    "\n",
    "CDF(3) = 0.8\n",
    "\n",
    "CDF(4) = 0.8\n",
    "\n",
    "CDF(5) = 1\n",
    "\n",
    "\n",
    "The CDF can be for discrite, continuous, or mixed distributions. PMF is only for discrete distributions.\n",
    "\n"
   ]
  },
  {
   "cell_type": "markdown",
   "metadata": {},
   "source": [
    "#### 9. How can conditional distributions help optimise the CDF?\n",
    "[Reference](https://www.colorado.edu/economics/morey/7818/jointdensity/NotesonConditionalCDFs/ConditionalCDF_Edward.pdf)\n",
    "\n",
    "A conditional distribution is the distribution of a subset of the data which\n",
    "is selected according to a condition.\n",
    "\n",
    "The general form of conditional CDF is: \n",
    "$$ F_{XY}(x \\mid y) = P_r[X \\leq x \\mid Y \\leq y] = \\frac{F_{XY}(x,y)}{F_Y(y)} $$\n",
    "\n",
    "Dividing the joint CDF by the marginal CDF allows us to normalize our conditional distribution\n",
    "so that it maintains the necessary properties of the CDF only in terms of\n",
    "the variable we are not conditioning upon. For example, if we looked at the\n",
    "formula above, this particular conditional CDF only maintains the properties\n",
    "of the CDF in terms of X.\n",
    "\n",
    "Conditional distributions are useful for comparing measurements from different tests, or tests applied to different groups. For example, people who compete in foot races are usually grouped by age and gender. To compare people in different groups, you can convert race times to percentile ranks. The reason for this is to reduce the variations in the data. It also helps us obtain some interesting insights.\n"
   ]
  },
  {
   "cell_type": "markdown",
   "metadata": {},
   "source": [
    "#### 10. Demonstrate how CDF can be used to generate random numbers.\n",
    "CDFs are useful for generating random numbers with a given distribution.\n",
    "Here’s how:\n",
    "* Choose a random probability in the range 0–1.\n",
    "* Use the inverse CDF to find the value in the distribution that corresponds to the probability you chose.\n",
    "\n",
    "This is a by product of the properties of CDFs. If the CDF $F$ is strictly increasing and continuous then $F^{-1}(p), p \\in [0,1]$, is the unique real number  $x$ such that $F(x)=p$. In such a case, this is called the inverse distribution function of $F$\n",
    "\n",
    "Let’s say, we have 10,000 random numbers drawn from exponential distribution. Note, the cdf of exponential is a simple analytic function, $F(p) = 1 - e^{-\\lambda p}$ . So, if you transform all those 10,000 randoms you just generated using this function $F(p)$ , the resulting 10,000 numbers you get will be uniformly distributed. In other words, if you plot an histogram of these resulting numbers after transformation, you should see something like in figure below."
   ]
  },
  {
   "cell_type": "code",
   "execution_count": 10,
   "metadata": {},
   "outputs": [
    {
     "data": {
      "image/png": "[encoded data removed]",
      "text/plain": [
       "<matplotlib.figure.Figure at 0x105e7b090>"
      ]
     },
     "metadata": {},
     "output_type": "display_data"
    },
    {
     "data": {
      "image/png": "[encoded data removed]",
      "text/plain": [
       "<matplotlib.figure.Figure at 0x106e8cf90>"
      ]
     },
     "metadata": {},
     "output_type": "display_data"
    }
   ],
   "source": [
    "import numpy as np\n",
    "import matplotlib.pyplot as plt\n",
    " \n",
    "def cdf_of_exponential( x, scale=1.0 ): #only for x>0\n",
    "    return 1.0 - np.exp(-scale*x)\n",
    " \n",
    "_set = []\n",
    "_transformed_set = []\n",
    "for i in range(100000):\n",
    "    expp = np.random.exponential() #exponential dist randoms\n",
    "    texpp = cdf_of_exponential( expp )\n",
    " \n",
    "    _set.append( expp )\n",
    "    _transformed_set.append( texpp )\n",
    " \n",
    "plt.hist( _set, 100 )\n",
    "plt.figure()\n",
    "plt.hist( _transformed_set )\n",
    "plt.show()"
   ]
  },
  {
   "cell_type": "markdown",
   "metadata": {},
   "source": [
    "#### 11. Differentiate empirical and continuous distributions and explain the relevance\n",
    "\n",
    "The distributions we have used so far are called empirical distributions\n",
    "because they are based on empirical observations, which are necessarily\n",
    "finite samples.\n",
    "\n",
    "The alternative is a continuous distribution, which is characterized by a\n",
    "CDF that is a continuous function (as opposed to a step function). Many\n",
    "real world phenomena can be approximated by continuous distributions.\n",
    "\n",
    "Examples of continuous distributions are exponential distribution, normal distribution, etc\n",
    "\n",
    "#### 12. Model a real world scenario with exponential distribution and bring out the inferences.\n",
    "\n",
    "Example:We will look at the interarrival time of babies recorded on a day in a hospital in Brisbane, Australia. \n",
    "On December 18, 1997, 44 babies were born. The times of birth for all 44 babies were reported in the local paper; you can download the data from [here](http://thinkstats.com/babyboom.dat)\n",
    "\n",
    "The CDF of the interarrival times in minutes can be found, which seems to have the general shapte of an exponential distribution.\n",
    "\n",
    "The CDF of an exponential distribution is given by:\n",
    "\n",
    "$$F(p) = 1 - e^{-\\lambda p}$$\n",
    "\n",
    "The parameter, λ, determines the shape of the distribution. In general, the mean of an exponential distribution is ${1/\\lambda}$ and the median is given by $ln(2)/\\lambda$.\n",
    "\n",
    "In the real world, exponential distributions often come up when we look at a series\n",
    "of events and measure the times between events, which are called interarrival\n",
    "times. If the events are equally likely to occur at any time, the distribution\n",
    "of interarrival times tends to look like an exponential distribution."
   ]
  },
  {
   "cell_type": "markdown",
   "metadata": {},
   "source": [
    "#### 13. Why CCDF should be considered along with CDF? Illustrate with an example.\n",
    "\n",
    "When checking if a CDF is exponential, it is often convenient to use the Complimentary CDF (CCDF),which is 1-CDF(x), instead of directly plotting the CDF value. If the plot of CCDF on the log-y scale is a straight line, then we can easily conclude that the CDF is an exponential distribution. The example below illustrates this.\n",
    "\n",
    "Example:\n",
    "Let the CDF of a distribution be given by the function $F(p) = 1 - e^{-\\lambda p}$ then the CCDF of p is $e^{-\\lambda p}$. \n",
    "\n",
    "If we were to plot this, we would get $$y \\approx e^{\\lambda p}$$ Taking log on both sides gives $$log y \\approx -\\lambda x$$ which is a straight line with slope $-\\lambda$"
   ]
  },
  {
   "cell_type": "markdown",
   "metadata": {},
   "source": [
    "#### 14. How to determine whether a data set exhibits Pereto distribution?\n",
    "The CDF of the Pareto distribution is given by $$ CDF(x) = 1 - \\left({\\frac{x}{x_m}}\\right)^{-\\alpha} $$\n",
    "The parameters $x_m$ and $\\alpha$ determine the location and shape of the distribution. $x_m$ is the minimum possible value. To determine whether a data set exhibits Pereto distribution we can plot the values of the CCDF on log-log scale. This should turn out to be a straight line if the CDF of the distribution follows Pereto Distribution. \n",
    "\n",
    "To see this, consider the CCDF of Pereto distribution being plotted: \n",
    "\n",
    "$$ y \\approx \\left({\\frac{x}{x_m}}\\right)^{-\\alpha} $$ \n",
    "\n",
    "Taking log on both sides, we get \n",
    "\n",
    "$$log(y) \\approx -\\alpha(log(x) - log(x_m))$$\n",
    "\n",
    "On a logarithmic scale, this is just a straight line with slope $-\\alpha$ and intercept $\\alpha * log(x_m)$\n",
    "\n",
    "Thus to check if the data set exhibits Pereto distribution, plot the CCDF of this function (1 - CDF(x)) on a log-log scale. If it is a straight line, then its following Pereto distribution. "
   ]
  },
  {
   "cell_type": "markdown",
   "metadata": {},
   "source": [
    "#### 15. Explain the popularity of Normal distribution in real world.\n",
    "\n",
    "This is mainly because of the Central Limit Theorem. In probability theory, the central limit theorem (CLT) establishes that, in most situations, when independent random variables are added, their properly normalized sum tends toward a normal distribution (informally a \"bell curve\") even if the original variables themselves are not normally distributed. The theorem is a key concept in probability theory because it implies that probabilistic and statistical methods that work for normal distributions can be applicable to many problems involving other types of distributions.\n",
    "It turns out that if we add up a large number of values from almost any distribution, the distribution of the sum converges to normal. More specifically, if the distribution of the values has mean and standard deviation µ and σ, the distribution of the sum is approximately $N(n\\mu , n\\sigma^2)$ provided that:\n",
    "* The values have been drawn independently.\n",
    "* The values have to come from the same distribution (although thisrequirement can be relaxed)\n",
    "* The values have to be drawn from a distribution with finite mean and variance, so most Pareto distributions are out\n",
    "*  The number of values you need before you see convergence depends on the skewness of the distribution. Sums from an exponential distribution converge for small sample sizes. Sums from a lognormal distribution do not.\n",
    "\n",
    "This explains the prevalence of normal distributions in the natural world. Most characteristics of animals and\n",
    "other life forms are affected by a large number of genetic and environmental factors whose effect is additive. The characteristics we measure are the sum of a large number of small effects, so their distribution tends to be normal."
   ]
  },
  {
   "cell_type": "markdown",
   "metadata": {},
   "source": [
    "#### 16. How to model a real world phenomenon as a particular continuous distribution?\n",
    "\n",
    "Like all models, continuous distributions are abstractions, which means\n",
    "they leave out details that are considered irrelevant. For example, an observed\n",
    "distribution might have measurement errors or quirks that are specific\n",
    "to the sample; continuous models smooth out these idiosyncrasies.\n",
    "\n",
    "Continuous models are also a form of data compression. When a model fits\n",
    "a dataset well, a small set of parameters can summarize a large amount of\n",
    "data.\n",
    "\n",
    "It is sometimes surprising when data from a natural phenomenon fit a continuous\n",
    "distribution, but these observations can lead to insight into physical\n",
    "systems.\n",
    "\n",
    "When modelling real world phenomenon as a continuous distribution we can often examine the plot of the CCDF of the observations to see if it fits one of the known continuous distributions such as Exponential, Pereto, etc. We can also plot the normal probability plot of the dataset by using rankits. If we generate n values from a normal distribution and sort them, the kth rankit is teh mean of the distribution for the kth value. \n",
    "\n",
    "An approximate way to generate this is to generate a sample with the same size as the dataset from N(0,1). Sorting the values of the dataset, we plot the sampled values with the sorted dataset values. The resulting curve is a good approximation of the normal probability plot. \n",
    "\n",
    "If the logarithms of a set of values have a normal distribution, the valueshave a lognormal distribution. The CDF of a lognormal distribution is the same as a normal distribution and thus it can be used to model a real world scenario."
   ]
  },
  {
   "cell_type": "markdown",
   "metadata": {},
   "source": [
    "#### 17. Compare Frequentism with Bayesianism and bring out their relative merits.\n",
    "\n",
    "There is general agreement that a probability is a real value between 0 and 1 that is intended to be a quantitative measure corresponding to the qualitative notion that some things are more likely than others. If we have a finite sample of n trials and we observe s successes, the probability of success is s/n. If the set of trials is infinite, defining probabilities is a little trickier, but most people are willing to accept probabilistic claims about a hypothetical series of identical trials, like tossing a coin or rolling a die. \n",
    "\n",
    "Consider the probability of a candidate winning an election. This cannot be determined according to some people as they argue that as there is no series of identical trials to consider in such as situation. This position is called frequentism because it defines probability in terms of frequencies. If there is no set of identical trials, there is no probability.\n",
    "\n",
    "Frequentism is philosophically safe, but it limits the scope of probability to physical systems that are either random (like atomic decay) or so unpredictable that we model them as random (like a tumbling die). Anything involving people is pretty much not considered.\n",
    "\n",
    "However Bayesianism, which defines probability as a degree of belief that an event will occur. By this definition, the notion of probability can be applied in almost any circumstance. One difficulty with Bayesian\n",
    "probability is that it depends on a person’s state of knowledge; people with different information might have different degrees of belief about the same event. For this reason, many people think that Bayesian probabilities are\n",
    "more subjective than frequency probabilities."
   ]
  },
  {
   "cell_type": "markdown",
   "metadata": {},
   "source": [
    "#### 18. Argue why “Switch” is the optimal strategy in the Monty Hall problem.\n",
    "\n",
    "The problem is defined as follows:\n",
    "* Monty shows you three closed doors and tells you that there is a prize behind each door: one prize is a car, the other two are less valuable prizes like peanut butter and fake finger nails. The prizes are arranged at random.\n",
    "* The object of the game is to guess which door has the car. If you guess right, you get to keep the car.\n",
    "*  So you pick a door, which we will call Door A. We’ll call the other doors B and C.\n",
    "* Before opening the door you chose, Monty likes to increase the suspense by opening either Door B or C, whichever does not have the car. (If the car is actually behind Door A, Monty can safely open B or C, so he chooses one at random).\n",
    "* Then Monty offers you the option to stick with your original choice or switch to the one remaining unopened door.\n",
    "\n",
    "The question is, should you “stick” or “switch” or does it make no difference?\n",
    "\n",
    "Probability theory favors \"Switch\" over \"Stick\". This can be explained by considering the probability of find the car behind the doors. There are three possible scenarios: the car is behind Door A, B or C. Since the prizes are arranged at random, the probability of each scenario is 1/3.\n",
    "\n",
    "If your strategy is to stick with Door A, then you will win only in Scenario\n",
    "A, which has probability 1/3.\n",
    "\n",
    "If your strategy is to switch, you will win in either Scenario B or Scenario C,\n",
    "so the total probability of winning is 2/3. \n",
    "\n",
    "This is because If two events are mutually exclusive, that means that only one of them can\n",
    "happen, the probability of either event occuring is: \n",
    "\n",
    "$$P(A\\ or \\ B) = P(A) + P(B)$$\n"
   ]
  },
  {
   "cell_type": "markdown",
   "metadata": {},
   "source": [
    "#### 19. State and analyse the implications of PMF of Binomial distribution and its coefficient.\n",
    "\n",
    "The PMF of Binomial distribution is given by $$ PMF(k) = {{n}\\choose{k}} \\cdot p^k (1-p)^{n-k} $$\n",
    "\n",
    "The binomial coefficient is pronounced “n choose k”, and it can be computed\n",
    "directly like this: \n",
    "\n",
    "$$ {{n}\\choose{k}} = \\frac{n!}{k!(n-k)!}$$\n",
    "\n",
    "or recursively: \n",
    "\n",
    "$$ {{n}\\choose{k}} = {{n-1}\\choose{k}} + {{n-1}\\choose{k-1}} $$\n",
    "\n",
    "\n",
    "The implications of the PMF of a binomial distribution is that if the probability of an event occuring in the distribution is given by p, and the probability of the event not occuring is given by q, then the probability of the event occuring k times for all values of $k \\in [0,n]$ is given by the PMF of the binomial distribution. Where n is the number of trials. \n",
    "\n",
    "The value of the coefficient is also the same as the number of ways to select k items from a set of n items. Which is an important measure in combinatorics and computer science. It also gives the expansion of $(x+y)^n$, the pascal triangle, finding the number of paths in a grid, etc. "
   ]
  },
  {
   "cell_type": "markdown",
   "metadata": {},
   "source": [
    "#### 20. Analyse the diachronic interpretation of Bayes's theorem.\n",
    "\n",
    "Bayes’s theorem is often interpreted as a statement about how a body of\n",
    "evidence, E, affects the probability of a hypothesis, H: \n",
    "\n",
    "$$ P(H \\mid E) = P(H)\\frac{P(E\\mid H)}{P(E)}$$\n",
    "\n",
    "In words, this equation says that the probability of H after you have seen\n",
    "E is the product of P(H), which is the probability of H before you saw the\n",
    "evidence, and the ratio of P(E|H), the probability of seeing the evidence\n",
    "assuming that H is true, and P(E), the probability of seeing the evidence\n",
    "under any circumstances (H true or not).\n",
    "\n",
    "This way of reading Bayes’s theorem is called the “diachronic” interpretation\n",
    "because it describes how the probability of a hypothesis gets updated\n",
    "over time, usually in light of new evidence. In this context, P(H) is called\n",
    "the prior probability and P(H|E) is called the posterior. P(E|H) is the likelihood\n",
    "of the evidence, and P(E) is the normalizing constant"
   ]
  }
 ],
 "metadata": {
  "kernelspec": {
   "display_name": "Python 2",
   "language": "python",
   "name": "python2"
  },
  "language_info": {
   "codemirror_mode": {
    "name": "ipython",
    "version": 2
   },
   "file_extension": ".py",
   "mimetype": "text/x-python",
   "name": "python",
   "nbconvert_exporter": "python",
   "pygments_lexer": "ipython2",
   "version": "2.7.10"
  }
 },
 "nbformat": 4,
 "nbformat_minor": 2
}
