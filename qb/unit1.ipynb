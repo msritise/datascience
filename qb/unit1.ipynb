{
 "cells": [
  {
   "cell_type": "markdown",
   "metadata": {},
   "source": [
    "### What are the summary statistics used to describe data? Contrast between mean and average.\n",
    "\n",
    "The three most popular summary statistics are mean, variance and median. \n",
    "\n",
    "#### Mean\n",
    "If we have a sample of `n` values,$x_i$, the mean $\\mu$, is the sum of values divided by hte number of values; ie:\n",
    "$$ \\mu = \\frac{1}{n}*\\sum_i x_i $$\n",
    "\n",
    "#### Variance and Std. Deviation\n",
    "\n",
    "In the same way that the mean is intended to describe the central tendency,\n",
    "variance is intended to describe the spread. The variance of a set of values\n",
    "is $$ \\sigma^2 = \\frac{1}{n}\\sum_i (x_i - \\mu)^2 $$\n",
    "\n",
    "The term $x_i$ - µ is called the “deviation from the mean,” so variance is the mean squared deviation, which is why it is denoted $\\sigma^2%$. The square root of variance, σ, is called the standard deviation.\n",
    "\n",
    "#### Median \n",
    "\n",
    "The median is the value separating the higher half of a data sample, a population, or a probability distribution, from the lower half.\n",
    "\n",
    "Other kinds of Summary Statistics used include mode,  interquartile mean, range, interquartile range, absolute deviation, mean absolute difference, gini coeeficient, percentiles, etc. \n",
    "\n",
    "The words “mean” and “average” are sometimes used interchangeably, but the contrast is clear by the following:\n",
    "* The “mean” of a sample is the summary statistic computed with the previous formula.\n",
    "*  An “average” is one of many summary statistics you might choose to describe the typical value or the central tendency of a sample.\n",
    "\n",
    "Sometimes the mean is a good description of a set of values. For example,\n",
    "apples are all pretty much the same size (at least the ones sold in supermarkets).\n",
    "So if I buy 6 apples and the total weight is 3 pounds, it would be a\n",
    "reasonable summary to say they are about a half pound each. But pumpkins are more diverse. Suppose I grow several varieties in my garden, and one day I harvest three decorative pumpkins that are 1 pound each, two pie pumpkins that are 3 pounds each, and one Atlantic Giant®\n",
    "pumpkin that weighs 591 pounds. The mean of this sample is 100\n",
    "pounds, but if I told you “The average pumpkin in my garden is 100\n",
    "pounds,” that would be wrong, or at least misleading.\n",
    "In this example, there is no meaningful average because there is no typical\n",
    "pumpkin."
   ]
  },
  {
   "cell_type": "markdown",
   "metadata": {},
   "source": [
    "### Bring out the limitations of summary statistics and explain their alternatives.\n",
    "\n",
    "Summary statistics are used to summarize a set of observations, in order to communicate the largest amount of information as simply as possible. Thus they are concise, but dangerous, because they obscure the data. Such statistics are limited in ways so much so that they only allow you to make summations about the people or objects that you have actually measured. You cannot use the data you have collected to generalize to other people or objects (i.e., using data from a sample to infer the properties/parameters of a population). For example, if you tested a drug to beat cancer and it worked in your patients, you cannot claim that it would work in other cancer patients only relying on descriptive statistics (but inferential statistics would give you this opportunity).\n",
    "\n",
    "An alternative is to look at the distribution of the data, which describes how often each value appears. Inferential statistics relies on this premise, where propositions about a population are made using data drawn from the larger population with some form of sampling. Some examples of such propositions are point estimates, interval estimates, credible intervals, clustering or classificaiton. \n",
    "\n",
    "The data in inferential statistics are fit to mathematical models that can be parametric, non-parametric or semi-parametric in nature. "
   ]
  },
  {
   "cell_type": "markdown",
   "metadata": {},
   "source": [
    "### Illustrate the importance of PMF and write a pseudocode to derive them.\n",
    "\n",
    "The probability mass function or PMF is a function that maps observations to probabilities. It is a function\n",
    "that gives the probability that a discrete random variable is exactly equal to some value. It is \n",
    "is often the primary means of defining a discrete probability distribution, and such functions exist\n",
    "for either scalar or multivariate random variables whose domain is discrete. They are also very useful for exploratory\n",
    "data analysis as they can help reveal patterns, differences and other features that can be otherwise non-obvious. \n",
    "\n",
    "We can obtain a PMF for a discrite sample, by dividing the frequency of a value by the size of the sample - i.e the normalized frequencies of the sample. \n",
    "\n",
    "The following psuedocode illustrates this:"
   ]
  },
  {
   "cell_type": "code",
   "execution_count": 6,
   "metadata": {},
   "outputs": [
    {
     "name": "stdout",
     "output_type": "stream",
     "text": [
      "{10: 0.1, 3: 0.1, 4: 0.5, 2: 0.2, 5: 0.1}\n"
     ]
    }
   ],
   "source": [
    "#let sample be the list of observations/values\n",
    "sample = [2,3, 4,4,4,4,4,5,2,10]\n",
    "freq = {} # freq is a dictionary/map\n",
    "for x in sample:\n",
    "    freq[x] = freq.get(x,0)+1\n",
    "n = float(len(sample))\n",
    "pmf = {}\n",
    "for key in freq:\n",
    "    pmf[key] = freq[key]/n\n",
    "print pmf\n",
    "# PMF is the resulting probability mass function for sample."
   ]
  },
  {
   "cell_type": "markdown",
   "metadata": {},
   "source": [
    "### Describe two methods of exploratory data analysis with a suitable case study.\n",
    "\n",
    "There are a number of techniques used in Exploratory Data Analysis (EDA) such as Histograms, Box plots, Scatter Plots, Pareto Charts, etc. Here we shall consider two examples - histograms and box plots.\n",
    "\n",
    "\n",
    "\n",
    "#### Histograms\n",
    "A histogram is a representation that is used to roughly assess the probability distribution of a given variable by depicting the frequencies of observations occurring in certain ranges of values. It is an accurate representation of the distribution of numerical data.To construct a histogram, the first step is to \"bin\" the range of values—that is, divide the entire range of values into a series of intervals—and then count how many values fall into each interval. The bins are usually specified as consecutive, non-overlapping intervals of a variable. The bins (intervals) must be adjacent, and are often (but are not required to be) of equal size. If the bins are of equal size, a rectangle is erected over the bin with height proportional to the frequency—the number of cases in each bin. A histogram may also be normalized to display \"relative\" frequencies. It then shows the proportion of cases that fall into each of several categories, with the sum of the heights equaling 1.\n",
    "\n",
    "However, bins need not be of equal width; in that case, the erected rectangle is defined to have its area proportional to the frequency of cases in the bin.\n",
    "\n",
    "Case Study: Age of a person from Census data in an year. We can see that there are a lot more young people than old.\n",
    "\n",
    "#### Box Plots\n",
    "\n",
    "A box plot or boxplot is a method for graphically depicting groups of numerical data through their quartiles. After we check the distribution of the data by plotting the histogram, the second thing to do is to look for outliers. Identifying the outliers is important because it might happen that an association we find in our analysis can be explained by the presence of outliers A box plot is one of the best tools to identify such outliers. Through box plots we find minimum, 25th percentile, 50th percentile (median) and 75th percentile along with maximum value of a continuous variable. \n",
    "\n",
    "Case Study: Heights of 11 year olds. We can remove outlier examples."
   ]
  },
  {
   "cell_type": "code",
   "execution_count": 7,
   "metadata": {},
   "outputs": [
    {
     "data": {
      "image/png": "[encoded data removed]",
      "text/plain": [
       "<matplotlib.figure.Figure at 0x1041f1b10>"
      ]
     },
     "metadata": {},
     "output_type": "display_data"
    },
    {
     "data": {
      "image/png": "[encoded data removed]",
      "text/plain": [
       "<matplotlib.figure.Figure at 0x10425d650>"
      ]
     },
     "metadata": {},
     "output_type": "display_data"
    },
    {
     "data": {
      "image/png": "[encoded data removed]",
      "text/plain": [
       "<matplotlib.figure.Figure at 0x105d1be10>"
      ]
     },
     "metadata": {},
     "output_type": "display_data"
    }
   ],
   "source": [
    "import matplotlib.pyplot as pyplot\n",
    "import random\n",
    "population_estimate = [int(random.gauss((random.random()**2)*100,2)) for x in range(5000)]\n",
    "data = population_estimate\n",
    "histogram = pyplot.hist(data)\n",
    "pyplot.figure()\n",
    "heights = [random.gauss(140,10) for x in range(200)]\n",
    "male = [x+random.uniform(0,10) for x in heights]\n",
    "female = [x-random.uniform(0,10) for x in heights]\n",
    "pyplot.boxplot(male,labels=[\"male\"])\n",
    "pyplot.figure()\n",
    "pyplot.boxplot(female,labels=[\"female\"])\n",
    "pyplot.show()"
   ]
  },
  {
   "cell_type": "markdown",
   "metadata": {},
   "source": [
    "### Draw a sample histogram and find Mode, Shape and Outliers"
   ]
  },
  {
   "cell_type": "code",
   "execution_count": 59,
   "metadata": {},
   "outputs": [
    {
     "data": {
      "image/png": "[encoded data removed]",
      "text/plain": [
       "<matplotlib.figure.Figure at 0x105f2cf50>"
      ]
     },
     "metadata": {},
     "output_type": "display_data"
    }
   ],
   "source": [
    "pyplot.figure()\n",
    "data = [int(random.gauss(200,30)) for x in range(5000)]\n",
    "data.extend([int(random.gauss(random.uniform(1,100),20)) for x in range(500)])\n",
    "histogram = pyplot.hist(data)\n",
    "pyplot.show()"
   ]
  },
  {
   "cell_type": "markdown",
   "metadata": {},
   "source": [
    "#### Discuss how Relative Risk and Conditional Probability helps to understand the data better.\n",
    "\n",
    "Relative Risk is the ratio between two probabilites -eg: probabilities that are representative of two groups or classes of events. This is a summary statistic that can help highlight the differences between the two groups or the significance of an effect.\n",
    "\n",
    "Conditional probability is the probability of an event occuring subject to certain constraints. Real world events are often subject to constraints, or bound by some condition. Conditional Probabilities help model such situations more accurately by taking into account the constraints of the system."
   ]
  },
  {
   "cell_type": "markdown",
   "metadata": {},
   "source": [
    "#### How are percentiles used in CDF? Explain with an example.\n",
    "The Cumulative Distribution Function (CDF) is the function that maps values to their percentile rank in a distribution.The CDF is a function of x, where x is any value that might appear in the\n",
    "distribution. To evaluate CDF(x) for a particular value of x, we compute the fraction of the values in the sample less than (or equal to) x. Here’s what that looks like as a function that takes a sample, t, and a value,\n",
    "x:"
   ]
  },
  {
   "cell_type": "code",
   "execution_count": 24,
   "metadata": {},
   "outputs": [
    {
     "name": "stdout",
     "output_type": "stream",
     "text": [
      "[0.0, 0.2, 0.6, 0.8, 0.8, 1.0]\n"
     ]
    },
    {
     "data": {
      "image/png": "[encoded data removed]",
      "text/plain": [
       "<matplotlib.figure.Figure at 0x1067d0950>"
      ]
     },
     "metadata": {},
     "output_type": "display_data"
    }
   ],
   "source": [
    "def Render(x,p):\n",
    "        \"\"\"Generates a sequence of points suitable for plotting.\n",
    "\n",
    "        An empirical CDF is a step function; linear interpolation\n",
    "        can be misleading.\n",
    "\n",
    "        Returns:\n",
    "            tuple of (xs, ps)\n",
    "        \"\"\"\n",
    "        xs = [x[0]]\n",
    "        ps = [0.0]\n",
    "        for i, v in enumerate(p):\n",
    "            xs.append(x[i])\n",
    "            ps.append(v)\n",
    "\n",
    "            try:\n",
    "                xs.append(x[i+1])\n",
    "                ps.append(v)\n",
    "            except IndexError:\n",
    "                pass\n",
    "        return xs, ps\n",
    "    \n",
    "def Cdf(t, x):\n",
    "    count = 0.0\n",
    "    for value in t:\n",
    "        if value <= x:\n",
    "            count += 1.0\n",
    "    prob = count / len(t)\n",
    "    return prob\n",
    "d = [1,2,2,3,5]\n",
    "x = [Cdf(d,i) for i in range(6)]\n",
    "print x\n",
    "pyplot.figure()\n",
    "a,b = Render(d,x[1:])\n",
    "pyplot.plot(a,b)\n",
    "pyplot.show()"
   ]
  },
  {
   "cell_type": "markdown",
   "metadata": {},
   "source": [
    "#### Compare PMF and CDF and bring out their differences.\n",
    "\n",
    "The CDF for a random variable X gives $P(X \\leq x)$\n",
    "The PMF for a discrete random variable X, gives $P(X = x)$\n",
    "\n",
    "The CDF can be for discrite, continuous, or mixed distributions. PMF is only for discrete distributions.\n",
    "\n",
    "PMF can be susceptible to noise and have very low values when the number of observations is large. The histogram of PMF can sometimes have lots of spikes or valleys.  CDF doesn't have such limitations."
   ]
  },
  {
   "cell_type": "markdown",
   "metadata": {},
   "source": [
    "#### How can conditional distributions help optimise the CDF? [Reference](https://www.colorado.edu/economics/morey/7818/jointdensity/NotesonConditionalCDFs/ConditionalCDF_Edward.pdf)\n",
    "A conditional distribution is the distribution of a subset of the data which\n",
    "is selected according to a condition.\n",
    "\n",
    "The general form of conditional CDF is: \n",
    "$$ F_{XY}(x \\mid y) = P_r[X \\leq x \\mid Y \\leq y] = \\frac{F_{XY}(x,y)}{F_Y(y)} $$\n",
    "\n",
    "Dividing the joint CDF by the marginal CDF allows us to normalize our conditional distribution\n",
    "so that it maintains the necessary properties of the CDF only in terms of\n",
    "the variable we are not conditioning upon. For example, if we looked at the\n",
    "formula above, this particular conditional CDF only maintains the properties\n",
    "of the CDF in terms of X.\n"
   ]
  },
  {
   "cell_type": "markdown",
   "metadata": {},
   "source": [
    "### Demonstrate how CDF can be used to generate random numbers.\n",
    "CDFs are useful for generating random numbers with a given distribution.\n",
    "Here’s how:\n",
    "* Choose a random probability in the range 0–1.\n",
    "* Use the inverse CDF to find the value in the distribution that corresponds to the probability you chose.\n",
    "\n",
    "This is a by product of the properties of CDFs. If the CDF $F$ is strictly increasing and continuous then $F^{-1}(p),p\\in [0,1]$, is the unique real number  $x$ such that $F(x)=p$. In such a case, this is called the inverse distribution function of $F$\n",
    "\n",
    "Let’s say, we have 10,000 random numbers drawn from exponential distribution. Note, the cdf of exponential is a simple analytic function, $F(p) = 1 - e^{-\\lambda p}$ . So, if you transform all those 10,000 randoms you just generated using this function $F(p)$ , the resulting 10,000 numbers you get will be uniformly distributed. In other words, if you plot an histogram of these resulting numbers after transformation, you should see something like in figure below."
   ]
  },
  {
   "cell_type": "code",
   "execution_count": 25,
   "metadata": {},
   "outputs": [
    {
     "data": {
      "image/png": "[encoded data removed]",
      "text/plain": [
       "<matplotlib.figure.Figure at 0x1069bbf10>"
      ]
     },
     "metadata": {},
     "output_type": "display_data"
    },
    {
     "data": {
      "image/png": "[encoded data removed]",
      "text/plain": [
       "<matplotlib.figure.Figure at 0x1069bbe10>"
      ]
     },
     "metadata": {},
     "output_type": "display_data"
    }
   ],
   "source": [
    "import numpy as np\n",
    "import matplotlib.pyplot as plt\n",
    " \n",
    "def cdf_of_exponential( x, scale=1.0 ): #only for x>0\n",
    "    return 1.0 - np.exp(-scale*x)\n",
    " \n",
    "_set = []\n",
    "_transformed_set = []\n",
    "for i in range(100000):\n",
    "    expp = np.random.exponential() #exponential dist randoms\n",
    "    texpp = cdf_of_exponential( expp )\n",
    " \n",
    "    _set.append( expp )\n",
    "    _transformed_set.append( texpp )\n",
    " \n",
    "plt.hist( _set, 100 )\n",
    "plt.figure()\n",
    "plt.hist( _transformed_set )\n",
    "plt.show()"
   ]
  },
  {
   "cell_type": "markdown",
   "metadata": {},
   "source": [
    "#### Differentiate empirical and continuous distributions and explain the relevance\n",
    "\n",
    "The distributions we have used so far are called empirical distributions\n",
    "because they are based on empirical observations, which are necessarily\n",
    "finite samples.\n",
    "\n",
    "The alternative is a continuous distribution, which is characterized by a\n",
    "CDF that is a continuous function (as opposed to a step function). Many\n",
    "real world phenomena can be approximated by continuous distributions.\n",
    "\n",
    "Examples of continuous distributions are exponential distribution, normal distribution, etc\n",
    "\n",
    "#### Model a real world scenario with exponential distribution and bring out the inferences.\n",
    "\n",
    "Example:We will look at the interarrival time of babies recorded on a day in a hospital in Brisbane, Australia. \n",
    "On December 18, 1997, 44 babies were born. The times of birth for all 44 babies were reported in the local paper; you can download the data from [here](http://thinkstats.com/babyboom.dat)\n",
    "\n",
    "The CDF of the interarrival times in minutes can be found, which seems to have the general shapte of an exponential distribution.\n",
    "\n",
    "The CDF of an exponential distribution is given by:\n",
    "\n",
    "$$F(p) = 1 - e^{-\\lambda p}$$\n",
    "\n",
    "The parameter, λ, determines the shape of the distribution. In general, the mean of an exponential distribution is ${1/\\lambda}$ and the median is given by $ln(2)/\\lambda$.\n",
    "\n",
    "In the real world, exponential distributions often come up when we look at a series\n",
    "of events and measure the times between events, which are called interarrival\n",
    "times. If the events are equally likely to occur at any time, the distribution\n",
    "of interarrival times tends to look like an exponential distribution."
   ]
  },
  {
   "cell_type": "markdown",
   "metadata": {},
   "source": [
    "#### Why CCDF should be considered along with CDF? Illustrate with an example.\n",
    "\n",
    "When checking if a CDF is exponential, it is often convenient to use the Complimentary CDF (CCDF),which is 1-CDF(x), instead of directly plotting the CDF value. If the plot of CCDF on the log-y scale is a straight line, then we can easily conclude that the CDF is an exponential distribution. The example below illustrates this.\n",
    "\n",
    "Example:\n",
    "Let the CDF of a distribution be given by the function $F(p) = 1 - e^{-\\lambda p}$ then the CCDF of p is $e^{-\\lambda p}$. \n",
    "\n",
    "If we were to plot this, we would get $$y \\approx e^{\\lambda p}$$ Taking log on both sides gives $$\n",
    " \n",
    " \n"
   ]
  }
 ],
 "metadata": {
  "kernelspec": {
   "display_name": "Python 2",
   "language": "python",
   "name": "python2"
  },
  "language_info": {
   "codemirror_mode": {
    "name": "ipython",
    "version": 2
   },
   "file_extension": ".py",
   "mimetype": "text/x-python",
   "name": "python",
   "nbconvert_exporter": "python",
   "pygments_lexer": "ipython2",
   "version": "2.7.10"
  }
 },
 "nbformat": 4,
 "nbformat_minor": 2
}
