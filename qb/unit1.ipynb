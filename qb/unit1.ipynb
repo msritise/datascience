{
 "cells": [
  {
   "cell_type": "markdown",
   "metadata": {},
   "source": [
    "### What are the summary statistics used to describe data? Contrast between mean and average.\n",
    "\n",
    "The three most popular summary statistics are mean, variance and median. \n",
    "\n",
    "#### Mean\n",
    "If we have a sample of `n` values,$x_i$, the mean $\\mu$, is the sum of values divided by hte number of values; ie:\n",
    "$$ \\mu = \\frac{1}{n}*\\sum_i x_i $$\n",
    "\n",
    "#### Variance and Std. Deviation\n",
    "\n",
    "In the same way that the mean is intended to describe the central tendency,\n",
    "variance is intended to describe the spread. The variance of a set of values\n",
    "is $$ \\sigma^2 = \\frac{1}{n}\\sum_i (x_i - \\mu)^2 $$\n",
    "\n",
    "The term $x_i$ - µ is called the “deviation from the mean,” so variance is the mean squared deviation, which is why it is denoted $ \\sigma^2 $. The square root of variance, σ, is called the standard deviation.\n",
    "\n",
    "#### Median \n",
    "\n",
    "The median is the value separating the higher half of a data sample, a population, or a probability distribution, from the lower half.\n",
    "\n",
    "Other kinds of Summary Statistics used include mode,  interquartile mean, range, interquartile range, absolute deviation, mean absolute difference, gini coeeficient, percentiles, etc. \n",
    "\n",
    "The words “mean” and “average” are sometimes used interchangeably, but the contrast is clear by the following:\n",
    "* The “mean” of a sample is the summary statistic computed with the previous formula.\n",
    "*  An “average” is one of many summary statistics you might choose to describe the typical value or the central tendency of a sample.\n",
    "\n",
    "Sometimes the mean is a good description of a set of values. For example,\n",
    "apples are all pretty much the same size (at least the ones sold in supermarkets).\n",
    "So if I buy 6 apples and the total weight is 3 pounds, it would be a\n",
    "reasonable summary to say they are about a half pound each. But pumpkins are more diverse. Suppose I grow several varieties in my garden, and one day I harvest three decorative pumpkins that are 1 pound each, two pie pumpkins that are 3 pounds each, and one Atlantic Giant®\n",
    "pumpkin that weighs 591 pounds. The mean of this sample is 100\n",
    "pounds, but if I told you “The average pumpkin in my garden is 100\n",
    "pounds,” that would be wrong, or at least misleading.\n",
    "In this example, there is no meaningful average because there is no typical\n",
    "pumpkin."
   ]
  },
  {
   "cell_type": "markdown",
   "metadata": {},
   "source": [
    "### Bring out the limitations of summary statistics and explain their alternatives.\n",
    "\n",
    "Summary statistics are used to summarize a set of observations, in order to communicate the largest amount of information as simply as possible. Thus they are concise, but dangerous, because they obscure the data. Such statistics are limited in ways so much so that they only allow you to make summations about the people or objects that you have actually measured. You cannot use the data you have collected to generalize to other people or objects (i.e., using data from a sample to infer the properties/parameters of a population). For example, if you tested a drug to beat cancer and it worked in your patients, you cannot claim that it would work in other cancer patients only relying on descriptive statistics (but inferential statistics would give you this opportunity).\n",
    "\n",
    "An alternative is to look at the distribution of the data, which describes how often each value appears. Inferential statistics relies on this premise, where propositions about a population are made using data drawn from the larger population with some form of sampling. Some examples of such propositions are point estimates, interval estimates, credible intervals, clustering or classificaiton. \n",
    "\n",
    "The data in inferential statistics are fit to mathematical models that can be parametric, non-parametric or semi-parametric in nature. "
   ]
  },
  {
   "cell_type": "markdown",
   "metadata": {},
   "source": [
    "### Illustrate the importance of PMF and write a pseudocode to derive them.\n",
    "\n",
    "The probability mass function or PMF is a function that maps observations to probabilities. It is a function\n",
    "that gives the probability that a discrete random variable is exactly equal to some value. It is \n",
    "is often the primary means of defining a discrete probability distribution, and such functions exist\n",
    "for either scalar or multivariate random variables whose domain is discrete. They are also very useful for exploratory\n",
    "data analysis as they can help reveal patterns, differences and other features that can be otherwise non-obvious. \n",
    "\n",
    "We can obtain a PMF for a discrite sample, by dividing the frequency of a value by the size of the sample - i.e the normalized frequencies of the sample. \n",
    "\n",
    "The following psuedocode illustrates this:"
   ]
  },
  {
   "cell_type": "code",
   "execution_count": 1,
   "metadata": {},
   "outputs": [
    {
     "name": "stdout",
     "output_type": "stream",
     "text": [
      "{10: 0.1, 3: 0.1, 4: 0.5, 2: 0.2, 5: 0.1}\n"
     ]
    }
   ],
   "source": [
    "#let sample be the list of observations/values\n",
    "sample = [2,3, 4,4,4,4,4,5,2,10]\n",
    "freq = {} # freq is a dictionary/map\n",
    "for x in sample:\n",
    "    freq[x] = freq.get(x,0)+1\n",
    "n = float(len(sample))\n",
    "pmf = {}\n",
    "for key in freq:\n",
    "    pmf[key] = freq[key]/n\n",
    "print pmf\n",
    "# PMF is the resulting probability mass function for sample."
   ]
  },
  {
   "cell_type": "markdown",
   "metadata": {},
   "source": [
    "### Describe two methods of exploratory data analysis with a suitable case study.\n",
    "\n",
    "There are a number of techniques used in Exploratory Data Analysis (EDA) such as Histograms, Box plots, Scatter Plots, Pareto Charts, etc. Here we shall consider two examples - histograms and box plots.\n",
    "\n",
    "\n",
    "\n",
    "#### Histograms\n",
    "A histogram is a representation that is used to roughly assess the probability distribution of a given variable by depicting the frequencies of observations occurring in certain ranges of values. It is an accurate representation of the distribution of numerical data.To construct a histogram, the first step is to \"bin\" the range of values—that is, divide the entire range of values into a series of intervals—and then count how many values fall into each interval. The bins are usually specified as consecutive, non-overlapping intervals of a variable. The bins (intervals) must be adjacent, and are often (but are not required to be) of equal size. If the bins are of equal size, a rectangle is erected over the bin with height proportional to the frequency—the number of cases in each bin. A histogram may also be normalized to display \"relative\" frequencies. It then shows the proportion of cases that fall into each of several categories, with the sum of the heights equaling 1.\n",
    "\n",
    "However, bins need not be of equal width; in that case, the erected rectangle is defined to have its area proportional to the frequency of cases in the bin.\n",
    "\n",
    "Case Study: Age of a person from Census data in an year. We can see that there are a lot more young people than old.\n",
    "\n",
    "#### Box Plots\n",
    "\n",
    "A box plot or boxplot is a method for graphically depicting groups of numerical data through their quartiles. After we check the distribution of the data by plotting the histogram, the second thing to do is to look for outliers. Identifying the outliers is important because it might happen that an association we find in our analysis can be explained by the presence of outliers A box plot is one of the best tools to identify such outliers. Through box plots we find minimum, 25th percentile, 50th percentile (median) and 75th percentile along with maximum value of a continuous variable. \n",
    "\n",
    "Case Study: Heights of 11 year olds. We can remove outlier examples."
   ]
  },
  {
   "cell_type": "code",
   "execution_count": 43,
   "metadata": {},
   "outputs": [
    {
     "data": {
      "image/png": "[encoded data removed]",
      "text/plain": [
       "<matplotlib.figure.Figure at 0x105e6ea10>"
      ]
     },
     "metadata": {},
     "output_type": "display_data"
    },
    {
     "data": {
      "image/png": "[encoded data removed]",
      "text/plain": [
       "<matplotlib.figure.Figure at 0x105e6e7d0>"
      ]
     },
     "metadata": {},
     "output_type": "display_data"
    },
    {
     "data": {
      "image/png": "[encoded data removed]",
      "text/plain": [
       "<matplotlib.figure.Figure at 0x10607a650>"
      ]
     },
     "metadata": {},
     "output_type": "display_data"
    }
   ],
   "source": [
    "import matplotlib.pyplot as pyplot\n",
    "import random\n",
    "population_estimate = [int(random.gauss((random.random()**2)*100,2)) for x in range(5000)]\n",
    "data = population_estimate\n",
    "histogram = pyplot.hist(data)\n",
    "pyplot.figure()\n",
    "heights = [random.gauss(140,10) for x in range(200)]\n",
    "male = [x+random.uniform(0,10) for x in heights]\n",
    "female = [x-random.uniform(0,10) for x in heights]\n",
    "pyplot.boxplot(male,labels=[\"male\"])\n",
    "pyplot.figure()\n",
    "pyplot.boxplot(female,labels=[\"female\"])\n",
    "pyplot.show()"
   ]
  },
  {
   "cell_type": "markdown",
   "metadata": {},
   "source": [
    "### Draw a sample histogram and find Mode, Shape and Outliers"
   ]
  },
  {
   "cell_type": "code",
   "execution_count": 59,
   "metadata": {},
   "outputs": [
    {
     "data": {
      "image/png": "[encoded data removed]",
      "text/plain": [
       "<matplotlib.figure.Figure at 0x105f2cf50>"
      ]
     },
     "metadata": {},
     "output_type": "display_data"
    }
   ],
   "source": [
    "pyplot.figure()\n",
    "data = [int(random.gauss(200,30)) for x in range(5000)]\n",
    "data.extend([int(random.gauss(random.uniform(1,100),20)) for x in range(500)])\n",
    "histogram = pyplot.hist(data)\n",
    "pyplot.show()"
   ]
  },
  {
   "cell_type": "markdown",
   "metadata": {},
   "source": [
    "# Discuss how Relative Risk and Conditional Probability helps to understand the data better.\n",
    "Relative risk is a ratio of two probabilities.It helps us in knowing the relative probability of occurance of an event with respect to another. For example, the probability that a first baby is born early is 18.2%. For other babies it is 16.8%, so the relative risk is 1.08. That means that first babies are about 8% more likely to be early. \n",
    "\n",
    "Conditional probability is the probability of occurance of an event given that another event has occured. Example Imagine that someone you know is pregnant, and it is the beginning of Week 39. What is the chance that the baby will be born in the next week? We can answer these questions by computing a conditional probability."
   ]
  },
  {
   "cell_type": "markdown",
   "metadata": {},
   "source": [
    "# How are percentiles used in CDF? Explain with an example.\n",
    "\n",
    "Percentile is the fraction of people who scored lower than or equal to you. So if you are “in the 90th percentile,” you did as well as or better than 90% of the people who took the exam. For example, if the scores in the sequence were 55, 66, 77, 88 and 99, and you got the 88, then your percentile rank would be 100 * 4 / 5 which is 80.\n",
    "\n",
    "The CDF is the function that maps values to their percentile rank in a distribution. The CDF is a function of x, where x is any value that might appear in the distribution. To evaluate CDF(x) for a particular value of x, we compute the fraction of the values in the sample less than (or equal to) x. Hence, for the above example, CDF(88) would be 4/5 which is 0.8\n",
    "\n",
    "As an example, suppose a sample has the values {1, 2, 2, 3, 5}. Here is its CDF:\n",
    "\n",
    "CDF(0) = 0\n",
    "\n",
    "CDF(1) = 0.2\n",
    "\n",
    "CDF(2) = 0.6\n",
    "\n",
    "CDF(3) = 0.8\n",
    "\n",
    "CDF(4) = 0.8\n",
    "\n",
    "CDF(5) = 1"
   ]
  },
  {
   "cell_type": "code",
   "execution_count": null,
   "metadata": {},
   "outputs": [],
   "source": []
  }
 ],
 "metadata": {
  "kernelspec": {
   "display_name": "Python 2",
   "language": "python",
   "name": "python2"
  },
  "language_info": {
   "codemirror_mode": {
    "name": "ipython",
    "version": 2
   },
   "file_extension": ".py",
   "mimetype": "text/x-python",
   "name": "python",
   "nbconvert_exporter": "python",
   "pygments_lexer": "ipython2",
   "version": "2.7.12"
  },
  "widgets": {
   "application/vnd.jupyter.widget-state+json": {
    "state": {},
    "version_major": 2,
    "version_minor": 0
   }
  }
 },
 "nbformat": 4,
 "nbformat_minor": 2
}
